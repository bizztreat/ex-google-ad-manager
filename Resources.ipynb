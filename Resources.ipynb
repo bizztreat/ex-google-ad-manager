{
 "cells": [
  {
   "cell_type": "code",
   "execution_count": 2,
   "metadata": {
    "collapsed": false
   },
   "outputs": [],
   "source": [
    "from bs4 import BeautifulSoup\n",
    "import json\n",
    "import requests\n",
    "response = requests.get(\"https://developers.google.com/ad-manager/api/reference/v201911/ReportService.ReportQuery\")\n",
    "bs = BeautifulSoup(response.text)"
   ]
  },
  {
   "cell_type": "code",
   "execution_count": 3,
   "metadata": {
    "collapsed": false
   },
   "outputs": [],
   "source": [
    "did = 0\n",
    "dims = bs.select(\"#dimensions > td dl > dt > code, #dimensions > td dl > dd\")\n",
    "\n",
    "dimensions = []\n",
    "while did < len(dims):\n",
    "    dimensions.append({\n",
    "            \"dimension\": dims[did].text.strip(),\n",
    "            \"description\": \" \".join(dims[did+1].text.strip().split())\n",
    "        })\n",
    "    did+=2"
   ]
  },
  {
   "cell_type": "code",
   "execution_count": 4,
   "metadata": {
    "collapsed": false
   },
   "outputs": [],
   "source": [
    "cid = 0\n",
    "cols = bs.select(\"#columns > td dl > dt > code, #columns > td dl > dd\")\n",
    "\n",
    "columns = []\n",
    "while cid < len(cols):\n",
    "    columns.append({\n",
    "            \"dimension\": cols[cid].text.strip(),\n",
    "            \"description\": \" \".join(cols[cid+1].text.strip().split())\n",
    "        })\n",
    "    cid+=2"
   ]
  },
  {
   "cell_type": "code",
   "execution_count": 5,
   "metadata": {
    "collapsed": false
   },
   "outputs": [],
   "source": [
    "cid = 0\n",
    "tzts = bs.select(\"#timeZoneType > td dl > dt > code, #timeZoneType > td dl > dd\")\n",
    "\n",
    "time_zone_types = []\n",
    "while cid < len(tzts):\n",
    "    time_zone_types.append({\n",
    "            \"dimension\": tzts[cid].text.strip(),\n",
    "            \"description\": \" \".join(tzts[cid+1].text.strip().split())\n",
    "        })\n",
    "    cid+=2"
   ]
  },
  {
   "cell_type": "code",
   "execution_count": 6,
   "metadata": {
    "collapsed": false
   },
   "outputs": [],
   "source": [
    "cid = 0\n",
    "tzts = bs.select(\"#dateRangeType > td dl > dt > code, #dateRangeType > td dl > dd\")\n",
    "\n",
    "date_range_types = []\n",
    "while cid < len(tzts):\n",
    "    date_range_types.append({\n",
    "            \"dimension\": tzts[cid].text.strip(),\n",
    "            \"description\": \" \".join(tzts[cid+1].text.strip().split())\n",
    "        })\n",
    "    cid+=2"
   ]
  },
  {
   "cell_type": "code",
   "execution_count": 7,
   "metadata": {
    "collapsed": false
   },
   "outputs": [],
   "source": [
    "cid = 0\n",
    "tzts = bs.select(\"#dimensionAttributes > td dl > dt > code, #dimensionAttributes > td dl > dd\")\n",
    "\n",
    "dimension_attributes = []\n",
    "while cid < len(tzts):\n",
    "    dimension_attributes.append({\n",
    "            \"dimension\": tzts[cid].text.strip(),\n",
    "            \"description\": \" \".join(tzts[cid+1].text.strip().split())\n",
    "        })\n",
    "    cid+=2"
   ]
  },
  {
   "cell_type": "code",
   "execution_count": 8,
   "metadata": {
    "collapsed": false
   },
   "outputs": [],
   "source": [
    "cid = 0\n",
    "tzts = bs.select(\"#adUnitView > td dl > dt > code, #adUnitView > td dl > dd\")\n",
    "\n",
    "ad_unit_views = []\n",
    "while cid < len(tzts):\n",
    "    ad_unit_views.append({\n",
    "            \"dimension\": tzts[cid].text.strip(),\n",
    "            \"description\": \" \".join(tzts[cid+1].text.strip().split())\n",
    "        })\n",
    "    cid+=2"
   ]
  },
  {
   "cell_type": "code",
   "execution_count": 9,
   "metadata": {
    "collapsed": false
   },
   "outputs": [],
   "source": [
    "output = {\n",
    "    \"dimensions\": dimensions,\n",
    "    \"columns\": columns,\n",
    "    \"time_zone_types\": time_zone_types,\n",
    "    \"date_range_types\": date_range_types,\n",
    "    \"dimension_attributes\": dimension_attributes,\n",
    "    \"ad_unit_views\": ad_unit_views\n",
    "}\n",
    "\n",
    "with open(\"resources.json\",  \"w\") as outfile:\n",
    "    json.dump(output, outfile)"
   ]
  },
  {
   "cell_type": "code",
   "execution_count": 16,
   "metadata": {
    "collapsed": false
   },
   "outputs": [
    {
     "data": {
      "text/plain": [
       "['TODAY',\n",
       " 'YESTERDAY',\n",
       " 'LAST_WEEK',\n",
       " 'LAST_MONTH',\n",
       " 'LAST_3_MONTHS',\n",
       " 'REACH_LIFETIME',\n",
       " 'CUSTOM_DATE',\n",
       " 'NEXT_DAY',\n",
       " 'NEXT_90_DAYS',\n",
       " 'NEXT_WEEK',\n",
       " 'NEXT_MONTH',\n",
       " 'CURRENT_AND_NEXT_MONTH',\n",
       " 'NEXT_QUARTER',\n",
       " 'NEXT_3_MONTHS',\n",
       " 'NEXT_12_MONTHS']"
      ]
     },
     "execution_count": 16,
     "metadata": {},
     "output_type": "execute_result"
    }
   ],
   "source": [
    "[d[\"dimension\"] for d in date_range_types]"
   ]
  }
 ],
 "metadata": {
  "kernelspec": {
   "display_name": "Python 3",
   "language": "python",
   "name": "python3"
  },
  "language_info": {
   "codemirror_mode": {
    "name": "ipython",
    "version": 3
   },
   "file_extension": ".py",
   "mimetype": "text/x-python",
   "name": "python",
   "nbconvert_exporter": "python",
   "pygments_lexer": "ipython3",
   "version": "3.5.3"
  }
 },
 "nbformat": 4,
 "nbformat_minor": 2
}
